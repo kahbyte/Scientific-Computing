{
 "cells": [
  {
   "cell_type": "markdown",
   "metadata": {},
   "source": [
    "## Programação Científica - 2o Semestre de 2020 ##\n",
    "\n",
    "Bem vindos a disciplina de Computação Científica do Bacharelado de Ciência da Computação do Centro Universitário Senac. Meu nome é Maurício Marengoni e irei acompanhar voces nesta disciplina ao longo deste semestre.\n",
    "\n",
    "Ao longo deste curso iremos trabalhar com a linguagem de programação Python e com uma ferramenta chamada de Jupyter Notebook. Para poder utilizar esta ferramenta em seu computador é melhor você instalar o sistema ANACONDA ( https://www.anaconda.com/products/individual ), escolha a plataforma onde você irá instalar e, para o caso do Windows, se na versão 64 ou 32 bits.\n",
    "\n",
    "Nesta aula iremos apresentar algumas características da linguagem Python e do funcionamento do Jupyter Notebook. Vamos começar."
   ]
  },
  {
   "cell_type": "markdown",
   "metadata": {},
   "source": [
    "### Python ###\n",
    "\n",
    "A linguagem de Programação Python foi desenvolvida incialmente por Guido Van Rossum e foi apresentada em 1991. Hoje a linguagem é mantida pela comunidade e gerenciada pela Python Software Foundation.\n",
    "\n",
    "Python é uma linguagem de programação de alto nível, de carater geral e é também considerada uma linguagem fácil de se aprender porém é uma linguagem interpretada, que pode ser um problema para o desenvolvimento de sistemas de tempo real, por exemplo.\n",
    "\n",
    "A linguagem Python permite que se programe de forma estruturada, orientada a objetos ou ainda, simplesmente, executando trechos de código, com no Matlab. Os códigos apresentados abaixo podem ser executados e irão dar como saída o já conhecido \"Hello Word\"."
   ]
  },
  {
   "cell_type": "code",
   "execution_count": null,
   "metadata": {},
   "outputs": [],
   "source": [
    "print(\"Hello Word!!\")"
   ]
  },
  {
   "cell_type": "code",
   "execution_count": null,
   "metadata": {},
   "outputs": [],
   "source": [
    "def main():\n",
    "    print(\"Hello Word!!\")\n",
    "    \n",
    "main()"
   ]
  },
  {
   "cell_type": "code",
   "execution_count": null,
   "metadata": {},
   "outputs": [],
   "source": [
    "def hello():\n",
    "    print(\"Hello Word!!\")\n",
    "    \n",
    "def main():\n",
    "    hello()\n",
    "    \n",
    "main()"
   ]
  },
  {
   "cell_type": "markdown",
   "metadata": {},
   "source": [
    "A linguagem Python possui centenas de bibliotecas que podem ser utilizadas para diversas aplicações nas áreas de estatística, aprendizado de máquina, processamento de imagens, etc. Ao longo deste curso iremos utilizar algumas destas bibliotecas.\n",
    "\n",
    "### Jupyter Notebook ###\n",
    "\n",
    "No Jupyter Notebook iremos trabalhar basicamente com dois tipos de células:\n",
    "- Markdown: são células onde podemos digitar textos e inserir imagens, links, fórmulas, etc. Estas células obedecem alguns comandos de **html** e também comandos de **latex**. \n",
    "- Code: são células onde iremos digitar os códigos em Python. Note porém que todo o sistema é integrado e, uma vez executada uma célula de Python, enquanto o kernel estiver ativo o código continuará ativo no Notebook. isto deve ficar mais claro daqui a pouco.\n",
    "\n",
    "Para executar uma célula de código em um Jupyter Notebook basta selecionar a célula onde está o código e pressionar simultaneamente as teclas *shift + enter*.\n",
    "\n",
    "Vamos entender isto melhor. Considere as células abaixo, note que nas duas primeiras, se você pressionar *shift + enter*, nada acontece, apenas aparece um número dentro do colchete In[] indicando que o código foi executado. Ao executar a terceira célula, esta irá chamar a função **main** que por sua vez irá ler o nome da pessoa do teclado e passar para a função **hello** que irá apresentar o texto de saída resultados."
   ]
  },
  {
   "cell_type": "code",
   "execution_count": null,
   "metadata": {},
   "outputs": [],
   "source": [
    "## Imprime a frase Hello seguida da variável nome seguida de dois pontos de exclamação \n",
    "def hello(nome):\n",
    "    print(\"Hello \" + nome + \"!!\")"
   ]
  },
  {
   "cell_type": "code",
   "execution_count": null,
   "metadata": {},
   "outputs": [],
   "source": [
    "## Programa principal, lê um nome do teclado, sem testar e invoca a função hello passando o nome como parâmetro\n",
    "def main():\n",
    "    nome = input(\"Entre com o seu nome: \")\n",
    "    hello(nome)\n"
   ]
  },
  {
   "cell_type": "code",
   "execution_count": null,
   "metadata": {},
   "outputs": [],
   "source": [
    "## Executa a função main()\n",
    "main()"
   ]
  },
  {
   "cell_type": "markdown",
   "metadata": {},
   "source": [
    "Uma célula de código apresenta as linhas de código escritas bem como linhas de comentário. Como foi dito, uma vez executadas as funções e variáveis definidas ficam na memória do notebook e podem ser chamadas em qualquer célula do notebook. Uma célula do tipo Markdown, você pode clicar duas vezes para ver o código fonte que gerou a saída daquela célula e clicar *shift+enter* para ver a saída, isto é, o texto formatado.\n",
    "\n",
    "Python não é uma linguagem tipada, isto quer dizer que não é preciso declarar variáveis e ainda que uma variável pode ter qualquer tipo. Veja o exemplo abaixo:"
   ]
  },
  {
   "cell_type": "code",
   "execution_count": null,
   "metadata": {},
   "outputs": [],
   "source": [
    "variavel=\"Luisa\"\n",
    "print(variavel)\n",
    "variavel=1234\n",
    "print(variavel)\n",
    "variavel=3.1415926\n",
    "print(variavel)\n",
    "variavel=\"pi\"\n",
    "print(variavel)"
   ]
  },
  {
   "cell_type": "markdown",
   "metadata": {},
   "source": [
    "A variável assume o tipo do valor atribuído a ela, se for uma string, ou char, ou int, ou float, ou qualquer coisa que possa ser considerada uma variável do Python. É possível ainda, em uma célula de código, usar como uma calculadora, por exemplo:"
   ]
  },
  {
   "cell_type": "code",
   "execution_count": 1,
   "metadata": {},
   "outputs": [
    {
     "data": {
      "text/plain": [
       "80025"
      ]
     },
     "execution_count": 1,
     "metadata": {},
     "output_type": "execute_result"
    }
   ],
   "source": [
    "364*215+1765"
   ]
  },
  {
   "cell_type": "markdown",
   "metadata": {},
   "source": [
    "Vamos comparar um programa escrito em C++ e, ao lado, o mesmo programa escrito em Python:\n",
    "```\n",
    "#include <iostream>\n",
    "using namespace std;\n",
    "\n",
    "int main()  {                                                         def main():\n",
    "   int i=1, u=1, sum=0, Maximo=10000;                                    Maximo=10000\n",
    "   while(i<=Maximo){                                                     for i in range(Maximo):\n",
    "     while(u<i){                                                             u=1\n",
    "       if(i%u==0 ){                                                          sum=0\n",
    "         sum=sum+u;                                                          while(u<i):\n",
    "       }                                                                        if(i%u == 0):    \n",
    "       u++;                                                                         sum=sum+u;\n",
    "     }                                                                          u+=1\n",
    "     if(sum==i){                                                             if(sum==i):   \n",
    "       cout<<i<<\" é um numero perfeito.\"<<\"\\n\";                                  print(i, \"é um número perfeito.\")\n",
    "     }\n",
    "     i++;\n",
    "     u=1;  sum=0;\n",
    "   }                    \n",
    "   return 0;\n",
    "}                 \n",
    "```"
   ]
  },
  {
   "cell_type": "markdown",
   "metadata": {},
   "source": [
    "Note que os comandos são semelhantes em C++ e em Python. Em Python as variaveis não precisam ser declaradas com seus tipos, basta inicializá-las. Em Python não existe a demarcação de blocos de código **{}** como em C++, os blocos de código em Python são definidos pela identação das linhas de código que compõe o bloco. Execute as células abaixo e veja o resultado deste código, que determina os números perfeitos entre 0 e 9999 (o comando usado no *for* in range(limite) percorre os valores de 0 até limite-1)."
   ]
  },
  {
   "cell_type": "code",
   "execution_count": 3,
   "metadata": {},
   "outputs": [],
   "source": [
    "def main():\n",
    "    Maximo=10000\n",
    "    for i in range(Maximo):\n",
    "        u=1\n",
    "        sum=0\n",
    "        while(u<i):\n",
    "            if(i%u == 0):    \n",
    "                sum=sum+u;\n",
    "            u+=1\n",
    "        if(sum==i):\n",
    "            print(i, \"é um número perfeito.\")"
   ]
  },
  {
   "cell_type": "code",
   "execution_count": 4,
   "metadata": {},
   "outputs": [
    {
     "name": "stdout",
     "output_type": "stream",
     "text": [
      "0 é um número perfeito.\n",
      "6 é um número perfeito.\n",
      "28 é um número perfeito.\n",
      "496 é um número perfeito.\n",
      "8128 é um número perfeito.\n"
     ]
    }
   ],
   "source": [
    "main()"
   ]
  },
  {
   "cell_type": "markdown",
   "metadata": {},
   "source": [
    "Exercício 1: Reescreva o programa acima, porém quebre a solução dada utilizando duas funções. A primeira função deve ler do teclado o valor da variável Máximo e a segunda função deve imprimir um número perfeito quando encontrado. Ao final o progrma principal deve imprimir uma mensagem de que todos os números perfeitos até o limite foram encontrados."
   ]
  },
  {
   "cell_type": "code",
   "execution_count": 1,
   "metadata": {},
   "outputs": [
    {
     "name": "stdout",
     "output_type": "stream",
     "text": [
      "15000\n",
      "0  é um numero perfeito.\n",
      "\n",
      "6  é um numero perfeito.\n",
      "\n",
      "28  é um numero perfeito.\n",
      "\n",
      "496  é um numero perfeito.\n",
      "\n",
      "8128  é um numero perfeito.\n",
      "\n",
      "Todos os numeros perfeitos até  15000  estão listados acima.\n"
     ]
    }
   ],
   "source": [
    "## Função para ler o valor de entrada Maximo a ser utilizado no programa de números perfeitos.\n",
    "## Você vai utilizar o comando input do Python para ler a variável máximo. \n",
    "## Você pode encontrar mais detalhes sobre a função input neste site: \n",
    "## https://panda.ime.usp.br/aulasPython/static/aulasPython/aula02.html\n",
    "## retorne o valor de Maximo\n",
    "def leMaximo(): ## 2 linhas de código\n",
    "    Maximo = input()\n",
    "    return int(Maximo)\n",
    "\n",
    "    \n",
    "    \n",
    "## Crie uma função para imprimir os números perfeitos.\n",
    "## A função deve receber o número como parâmetro e imprimir a sentença indicando que o número é um número perfeito\n",
    "def imprime(numero): ## 1 linha de código\n",
    "    print(numero, \" é um numero perfeito.\\n\")\n",
    "\n",
    "\n",
    "## Programa principal\n",
    "def main():\n",
    "    ## Chama a função leMaximo escrita acima (1 linha de código)\n",
    "    Maximo = leMaximo()\n",
    "    \n",
    "    ## Defina um loop que vai de 0 até o valor de máximo. Tenha certeza de que vai até o máximo e não máximo - 1\n",
    "    for i in range(Maximo + 1): \n",
    "    \n",
    "        ## Inicializa as variáveis locais u e sum\n",
    "        u = 1\n",
    "        sum = 0\n",
    "        \n",
    "        \n",
    "        ## Faça um loop para testar os divisores de valor\n",
    "        while(u < i):\n",
    "       \n",
    "        ## testa se a divisão é exata\n",
    "            if (i % u == 0):\n",
    "            \n",
    "            ## se for acumula o valor em uma variável local\n",
    "                sum += u;\n",
    "            \n",
    "            ## Incrementa o divisor\n",
    "            u += 1\n",
    "\n",
    "        ## Testa se a variável local de soma é igual ao valor do numero sendo testado\n",
    "        if(sum == i):\n",
    "\n",
    "            ## se for, chama a funcao para imprimir o número\n",
    "            imprime(i)    \n",
    "            \n",
    "    print(\"Todos os numeros perfeitos até \",Maximo,\" estão listados acima.\")\n",
    "main()"
   ]
  },
  {
   "cell_type": "markdown",
   "metadata": {},
   "source": [
    "**Saída esperada para Máximo = 10000:**\n",
    "```\n",
    "Entre com o limite de cálculo de números perfeitos:15000\n",
    "0 é um número perfeito.\n",
    "6 é um número perfeito.\n",
    "28 é um número perfeito.\n",
    "496 é um número perfeito.\n",
    "8128 é um número perfeito.\n",
    "Todos os numeros perfeitos até  15000  estão listados acima.\n",
    "```"
   ]
  },
  {
   "cell_type": "markdown",
   "metadata": {},
   "source": [
    "Uma biblioteca importante para cálculos científicos em Python é a biblioteca **numpy**. Nesta biblioteca estão definidos os principais valores de constantes como o *pi* e o *e*, além de funções *trigonométricas* e *logaritmicas*. Também apresenta facilidades para trabalhar com *arrays* e *matrizes*. As células abaixo apresentam as formas diferentes de se carregar e usar um biblioteca do Python."
   ]
  },
  {
   "cell_type": "code",
   "execution_count": 33,
   "metadata": {},
   "outputs": [
    {
     "name": "stdout",
     "output_type": "stream",
     "text": [
      "0.8660254037844387\n",
      "0.49999999999999994\n"
     ]
    }
   ],
   "source": [
    "from numpy import *\n",
    "\n",
    "angulo=30\n",
    "## Converte o ângulo para radianos\n",
    "angulo=angulo*pi/180\n",
    "print(cos(angulo))\n",
    "print(sin(angulo))"
   ]
  },
  {
   "cell_type": "code",
   "execution_count": 32,
   "metadata": {},
   "outputs": [
    {
     "name": "stdout",
     "output_type": "stream",
     "text": [
      "0.8660254037844387\n",
      "0.49999999999999994\n"
     ]
    }
   ],
   "source": [
    "import numpy as np\n",
    "\n",
    "angulo=30\n",
    "## Converte o ângulo para radianos\n",
    "angulo=angulo*np.pi/180\n",
    "print(np.cos(angulo))\n",
    "print(np.sin(angulo))"
   ]
  },
  {
   "cell_type": "code",
   "execution_count": 31,
   "metadata": {},
   "outputs": [
    {
     "name": "stdout",
     "output_type": "stream",
     "text": [
      "0.8660254037844387\n",
      "0.49999999999999994\n"
     ]
    }
   ],
   "source": [
    "import numpy \n",
    "\n",
    "angulo=30\n",
    "## Converte o ângulo para radianos\n",
    "angulo=angulo*numpy.pi/180\n",
    "print(numpy.cos(angulo))\n",
    "print(numpy.sin(angulo))"
   ]
  },
  {
   "cell_type": "markdown",
   "metadata": {},
   "source": [
    "Exercício 2: Escreva um programa em Python que imprima uma tabela com os valores dos ângulos indo de 0 até 90 graus, de 3 em 3 graus. A tabela deve mostrar o valor do ângulo, cosseno, seno e tangente, conforme indicado abaixo:\n",
    "```\n",
    "Ângulo - Cosseno - Seno - Tangente\n",
    "  0         1        0        0\n",
    "  3       0.99863 0.05234  0.05241\n",
    "\n",
    "```"
   ]
  },
  {
   "cell_type": "code",
   "execution_count": 37,
   "metadata": {},
   "outputs": [
    {
     "name": "stdout",
     "output_type": "stream",
     "text": [
      "Ângulo  - Cosseno  - Seno  - Tangente\n",
      "  0       1.00000   0.00000   0.00000\n",
      "  3       0.99863   0.05234   0.05241\n",
      "  6       0.99452   0.10453   0.10510\n",
      "  9       0.98769   0.15643   0.15838\n",
      " 12       0.97815   0.20791   0.21256\n",
      " 15       0.96593   0.25882   0.26795\n",
      " 18       0.95106   0.30902   0.32492\n",
      " 21       0.93358   0.35837   0.38386\n",
      " 24       0.91355   0.40674   0.44523\n",
      " 27       0.89101   0.45399   0.50953\n",
      " 30       0.86603   0.50000   0.57735\n",
      " 33       0.83867   0.54464   0.64941\n",
      " 36       0.80902   0.58779   0.72654\n",
      " 39       0.77715   0.62932   0.80978\n",
      " 42       0.74314   0.66913   0.90040\n",
      " 45       0.70711   0.70711   1.00000\n",
      " 48       0.66913   0.74314   1.11061\n",
      " 51       0.62932   0.77715   1.23490\n",
      " 54       0.58779   0.80902   1.37638\n",
      " 57       0.54464   0.83867   1.53986\n",
      " 60       0.50000   0.86603   1.73205\n",
      " 63       0.45399   0.89101   1.96261\n",
      " 66       0.40674   0.91355   2.24604\n",
      " 69       0.35837   0.93358   2.60509\n",
      " 72       0.30902   0.95106   3.07768\n",
      " 75       0.25882   0.96593   3.73205\n",
      " 78       0.20791   0.97815   4.70463\n",
      " 81       0.15643   0.98769   6.31375\n",
      " 84       0.10453   0.99452   9.51436\n",
      " 87       0.05234   0.99863   19.08114\n"
     ]
    }
   ],
   "source": [
    "from numpy import *\n",
    "\n",
    "## Defina uma função que imprime o cabeçalho da tabela (2 linhas de código)\n",
    "def imprime():\n",
    "    print(\"Ângulo  - Cosseno  - Seno  - Tangente\")\n",
    "\n",
    "\n",
    "\n",
    "## Defina uma função que imprime os valore da tabela. A função recebe os valores como parâmetros\n",
    "## Faça a impressão de forma que a tabela fique bem formatada (5 linhas de código)\n",
    "def imprimeTabela(angle, cos, sin, tan):\n",
    "    line = \" {:2d}       {:.5f}   {:.5f}   {:.5f}\".format(angle, cos, sin, tan)\n",
    "    print(line)\n",
    "\n",
    "    \n",
    "\n",
    "\n",
    "\n",
    "                                                                                                            \n",
    "## Programa Principal\n",
    "def main():\n",
    "    ## Imprime o cabecalho da tabela\n",
    "    imprime()\n",
    "    \n",
    "    ## Faz um loop com valores de 0 a 90 graus variando de 3 em 3\n",
    "    angle = 0\n",
    "    while(angle < 90):\n",
    "    \n",
    "        ## Converte o angulo para radiano\n",
    "        angleInRad = (angle * pi)/180\n",
    "        \n",
    "        ## Chama a função para imprimir os valores da tabela com os valores apropriados\n",
    "        imprimeTabela(angle, cos(angleInRad), sin(angleInRad), tan(angleInRad))\n",
    "        angle += 3;\n",
    "        \n",
    "main()"
   ]
  },
  {
   "cell_type": "markdown",
   "metadata": {},
   "source": [
    "# **Saída esperada:**\n",
    "```\n",
    "Ângulo - Cosseno -  Seno  -  Tangente\n",
    " 0       1.00000   0.00000   0.00000\n",
    " 3       0.99863   0.05234   0.05241\n",
    " 6       0.99452   0.10453   0.10510\n",
    " 9       0.98769   0.15643   0.15838\n",
    "12       0.97815   0.20791   0.21256\n",
    "15       0.96593   0.25882   0.26795\n",
    "18       0.95106   0.30902   0.32492\n",
    "21       0.93358   0.35837   0.38386\n",
    "24       0.91355   0.40674   0.44523\n",
    "27       0.89101   0.45399   0.50953\n",
    "30       0.86603   0.50000   0.57735\n",
    "33       0.83867   0.54464   0.64941\n",
    "36       0.80902   0.58779   0.72654\n",
    "39       0.77715   0.62932   0.80978\n",
    "42       0.74314   0.66913   0.90040\n",
    "45       0.70711   0.70711   1.00000\n",
    "48       0.66913   0.74314   1.11061\n",
    "51       0.62932   0.77715   1.23490\n",
    "54       0.58779   0.80902   1.37638\n",
    "57       0.54464   0.83867   1.53986\n",
    "60       0.50000   0.86603   1.73205\n",
    "63       0.45399   0.89101   1.96261\n",
    "66       0.40674   0.91355   2.24604\n",
    "69       0.35837   0.93358   2.60509\n",
    "72       0.30902   0.95106   3.07768\n",
    "75       0.25882   0.96593   3.73205\n",
    "78       0.20791   0.97815   4.70463\n",
    "81       0.15643   0.98769   6.31375\n",
    "84       0.10453   0.99452   9.51436\n",
    "87       0.05234   0.99863  19.08114\n",
    "```\n"
   ]
  },
  {
   "cell_type": "code",
   "execution_count": null,
   "metadata": {},
   "outputs": [],
   "source": []
  }
 ],
 "metadata": {
  "kernelspec": {
   "display_name": "Python 3",
   "language": "python",
   "name": "python3"
  },
  "language_info": {
   "codemirror_mode": {
    "name": "ipython",
    "version": 3
   },
   "file_extension": ".py",
   "mimetype": "text/x-python",
   "name": "python",
   "nbconvert_exporter": "python",
   "pygments_lexer": "ipython3",
   "version": "3.8.3"
  }
 },
 "nbformat": 4,
 "nbformat_minor": 2
}
